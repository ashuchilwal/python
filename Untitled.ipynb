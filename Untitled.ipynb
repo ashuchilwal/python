{
 "cells": [
  {
   "cell_type": "code",
   "execution_count": 2,
   "metadata": {},
   "outputs": [
    {
     "name": "stdout",
     "output_type": "stream",
     "text": [
      "0.0\n"
     ]
    }
   ],
   "source": [
    "s1 = 3\n",
    "s2 = 5\n",
    "s3 = 2\n",
    "s = (s1+s2+s3)/2\n",
    "area_of_trangle = (s*(s-s1)*(s-s2)*(s-s3))**(1/2)\n",
    "print(area_of_trangle)"
   ]
  },
  {
   "cell_type": "code",
   "execution_count": 3,
   "metadata": {},
   "outputs": [
    {
     "data": {
      "text/plain": [
       "'C:\\\\Users\\\\ashu\\\\python'"
      ]
     },
     "execution_count": 3,
     "metadata": {},
     "output_type": "execute_result"
    }
   ],
   "source": [
    "pwd"
   ]
  },
  {
   "cell_type": "code",
   "execution_count": 4,
   "metadata": {},
   "outputs": [
    {
     "name": "stdout",
     "output_type": "stream",
     "text": [
      "enter initial principal rate :300\n",
      "enter annual interest rate :300\n",
      "enter time3\n",
      "270300\n"
     ]
    }
   ],
   "source": [
    "p = int(input('enter initial principal rate :'))\n",
    "r = int(input('enter annual interest rate :'))\n",
    "t = int(input('enter time'))\n",
    "simple_intrest = p*(1+r*t)\n",
    "print(simple_intrest)"
   ]
  },
  {
   "cell_type": "code",
   "execution_count": 5,
   "metadata": {},
   "outputs": [
    {
     "name": "stdout",
     "output_type": "stream",
     "text": [
      "enter prize50\n",
      "enter prize :20\n",
      "profit is :30\n"
     ]
    }
   ],
   "source": [
    "selling_prize = int(input('enter prize'))\n",
    "bying_prize = int(input('enter prize :'))\n",
    "profit = selling_prize - bying_prize\n",
    "if profit > 0:\n",
    "    print(f'profit is :{profit}')\n",
    "else:\n",
    "    print(f'loss is {profit}')"
   ]
  },
  {
   "cell_type": "code",
   "execution_count": 6,
   "metadata": {},
   "outputs": [
    {
     "name": "stdout",
     "output_type": "stream",
     "text": [
      "enter income600000\n",
      "18000.0\n"
     ]
    }
   ],
   "source": [
    "income = int(input('enter income'))\n",
    "if income > 500000:\n",
    "    tax_of = income - 500000\n",
    "    tax_is = (tax_of*18)/100\n",
    "    print(tax_is)\n",
    "else:\n",
    "    print(\"income is less then 500000\")"
   ]
  },
  {
   "cell_type": "code",
   "execution_count": 8,
   "metadata": {},
   "outputs": [
    {
     "name": "stdout",
     "output_type": "stream",
     "text": [
      "enter your bill amount :6000\n",
      "5400.0\n"
     ]
    }
   ],
   "source": [
    "shoping_cart = int(input(\"enter your bill amount :\"))\n",
    "if shoping_cart > 5000:\n",
    "    discount = (shoping_cart*10)/100\n",
    "    total_bill = shoping_cart - discount\n",
    "    print(total_bill)\n",
    "else:\n",
    "    print(shoping_cart)"
   ]
  },
  {
   "cell_type": "markdown",
   "metadata": {},
   "source": [
    "n = int(input('enter a number :'))\n",
    "if n > 0:\n",
    "    print('positive no')\n",
    "else:\n",
    "    print('negative no')"
   ]
  },
  {
   "cell_type": "code",
   "execution_count": 16,
   "metadata": {},
   "outputs": [
    {
     "name": "stdout",
     "output_type": "stream",
     "text": [
      "enter num1 :6\n",
      "enter num2 :8\n",
      "num2 is grater\n"
     ]
    }
   ],
   "source": [
    "num1 = int(input('enter num1 :'))\n",
    "num2 = int(input('enter num2 :'))\n",
    "if num1 > num2:\n",
    "    print('num1 is grater')\n",
    "else:\n",
    "    print('num2 is grater')\n"
   ]
  },
  {
   "cell_type": "code",
   "execution_count": 20,
   "metadata": {},
   "outputs": [
    {
     "name": "stdout",
     "output_type": "stream",
     "text": [
      "enter num1 :3\n",
      "enter num2 :5\n",
      "enter num3 :7\n",
      "num3 7 is gratest number\n"
     ]
    }
   ],
   "source": [
    "num1 = int(input('enter num1 :'))\n",
    "num2 = int(input('enter num2 :'))\n",
    "num3 = int(input('enter num3 :'))\n",
    "if num1 > num2 and num1 > num3:\n",
    "    print(f'num1 {num1} is gratest number')\n",
    "elif num2 > num1 and num2 >num3:\n",
    "    print(f'num2 {num2} is gratest number')\n",
    "else:\n",
    "    print(f'num3 {num3} is gratest number')\n",
    "            "
   ]
  },
  {
   "cell_type": "code",
   "execution_count": 30,
   "metadata": {},
   "outputs": [
    {
     "name": "stdout",
     "output_type": "stream",
     "text": [
      "are you student of school?yes\n",
      "do you have submitted your fee?no\n",
      "do you wear mask?yes\n",
      "you are allowed\n"
     ]
    }
   ],
   "source": [
    "ques1 = input('are you student of school?')\n",
    "ques2 = input('do you have submitted your fee?')\n",
    "ques3 = input('do you wear mask?')\n",
    "if (ques1 == 'yes' or ques == 'yes') and ques3 == 'yes':\n",
    "    print('you are allowed')\n",
    "else:\n",
    "    print('you are not allowed')"
   ]
  },
  {
   "cell_type": "code",
   "execution_count": 31,
   "metadata": {},
   "outputs": [
    {
     "data": {
      "text/plain": [
       "'s'"
      ]
     },
     "execution_count": 31,
     "metadata": {},
     "output_type": "execute_result"
    }
   ],
   "source": [
    "###indexing\n",
    "name = 'ashish'\n",
    "name[4]\n",
    "\n",
    "##### slicing\n",
    "#name[start:stop:step]\n"
   ]
  },
  {
   "cell_type": "code",
   "execution_count": 35,
   "metadata": {},
   "outputs": [
    {
     "data": {
      "text/plain": [
       "'gmail.com'"
      ]
     },
     "execution_count": 35,
     "metadata": {},
     "output_type": "execute_result"
    }
   ],
   "source": [
    "email = 'ashuchilwal14@gmail.com'\n",
    "start = email.index('@')\n",
    "email[start+1:]"
   ]
  },
  {
   "cell_type": "code",
   "execution_count": 88,
   "metadata": {
    "scrolled": true
   },
   "outputs": [
    {
     "name": "stdout",
     "output_type": "stream",
     "text": [
      "loohcs nohtypeht ot emoclew olleh ih\n",
      "HI HELLO WELCOME TO THEPYTHON SCHOOL\n",
      "hi hello welcome to thepython school\n",
      "Hi Hello Welcome To Thepython School\n",
      "hello \n",
      "hlo\n"
     ]
    }
   ],
   "source": [
    "st = \"hi hello welcome to the python school\"\n",
    "print(st[::-1])\n",
    "print(st.upper())\n",
    "print(st.lower())\n",
    "print(st.title())\n",
    "print(st[3:9])\n",
    "print(st[3:9:2])\n",
    "#print(st[-28:-34])   ###\n",
    "first = st.index('w')\n",
    "last = st.index('e')\n",
    "#print(st[first:last])"
   ]
  },
  {
   "cell_type": "code",
   "execution_count": 67,
   "metadata": {},
   "outputs": [
    {
     "name": "stdout",
     "output_type": "stream",
     "text": [
      "Hello\n",
      "hello\n",
      "2\n",
      "b'hello'\n",
      "True\n",
      "hello\n",
      "2\n",
      "hello\n",
      "hello\n",
      "1\n",
      "True\n"
     ]
    }
   ],
   "source": [
    "st = 'hello'\n",
    "print(st.capitalize())\n",
    "print(st.casefold())\n",
    "print(st.count('l'))\n",
    "print(st.encode())\n",
    "print(st.endswith('o'))\n",
    "print(st.expandtabs())\n",
    "print(st.find('l'))\n",
    "print(st.format())\n",
    "print(st.format_map(2))\n",
    "print(st.index('e'))\n",
    "print(st.isalnum())\n",
    "st."
   ]
  },
  {
   "cell_type": "code",
   "execution_count": 3,
   "metadata": {},
   "outputs": [
    {
     "name": "stdout",
     "output_type": "stream",
     "text": [
      "9\n",
      "4\n"
     ]
    },
    {
     "data": {
      "text/plain": [
       "''"
      ]
     },
     "execution_count": 3,
     "metadata": {},
     "output_type": "execute_result"
    }
   ],
   "source": [
    "st = \"hi hello welcome to the python school\"\n",
    "first = st.index('w')\n",
    "last = st.index('e')\n",
    "print(first)\n",
    "print(last)\n",
    "st[first:last]\n"
   ]
  }
 ],
 "metadata": {
  "kernelspec": {
   "display_name": "Python 3",
   "language": "python",
   "name": "python3"
  },
  "language_info": {
   "codemirror_mode": {
    "name": "ipython",
    "version": 3
   },
   "file_extension": ".py",
   "mimetype": "text/x-python",
   "name": "python",
   "nbconvert_exporter": "python",
   "pygments_lexer": "ipython3",
   "version": "3.7.4"
  }
 },
 "nbformat": 4,
 "nbformat_minor": 2
}
