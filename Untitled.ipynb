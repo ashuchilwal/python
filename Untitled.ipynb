{
 "cells": [
  {
   "cell_type": "code",
   "execution_count": 2,
   "metadata": {},
   "outputs": [
    {
     "name": "stdout",
     "output_type": "stream",
     "text": [
      "0.0\n"
     ]
    }
   ],
   "source": [
    "s1 = 3\n",
    "s2 = 5\n",
    "s3 = 2\n",
    "s = (s1+s2+s3)/2\n",
    "area_of_trangle = (s*(s-s1)*(s-s2)*(s-s3))**(1/2)\n",
    "print(area_of_trangle)"
   ]
  },
  {
   "cell_type": "code",
   "execution_count": 3,
   "metadata": {},
   "outputs": [
    {
     "data": {
      "text/plain": [
       "'C:\\\\Users\\\\ashu\\\\python'"
      ]
     },
     "execution_count": 3,
     "metadata": {},
     "output_type": "execute_result"
    }
   ],
   "source": [
    "pwd"
   ]
  },
  {
   "cell_type": "code",
   "execution_count": 4,
   "metadata": {},
   "outputs": [
    {
     "name": "stdout",
     "output_type": "stream",
     "text": [
      "enter initial principal rate :300\n",
      "enter annual interest rate :300\n",
      "enter time3\n",
      "270300\n"
     ]
    }
   ],
   "source": [
    "p = int(input('enter initial principal rate :'))\n",
    "r = int(input('enter annual interest rate :'))\n",
    "t = int(input('enter time'))\n",
    "simple_intrest = p*(1+r*t)\n",
    "print(simple_intrest)"
   ]
  },
  {
   "cell_type": "code",
   "execution_count": 5,
   "metadata": {},
   "outputs": [
    {
     "name": "stdout",
     "output_type": "stream",
     "text": [
      "enter prize50\n",
      "enter prize :20\n",
      "profit is :30\n"
     ]
    }
   ],
   "source": [
    "selling_prize = int(input('enter prize'))\n",
    "bying_prize = int(input('enter prize :'))\n",
    "profit = selling_prize - bying_prize\n",
    "if profit > 0:\n",
    "    print(f'profit is :{profit}')\n",
    "else:\n",
    "    print(f'loss is {profit}')"
   ]
  },
  {
   "cell_type": "code",
   "execution_count": 6,
   "metadata": {},
   "outputs": [
    {
     "name": "stdout",
     "output_type": "stream",
     "text": [
      "enter income600000\n",
      "18000.0\n"
     ]
    }
   ],
   "source": [
    "income = int(input('enter income'))\n",
    "if income > 500000:\n",
    "    tax_of = income - 500000\n",
    "    tax_is = (tax_of*18)/100\n",
    "    print(tax_is)\n",
    "else:\n",
    "    print(\"income is less then 500000\")"
   ]
  },
  {
   "cell_type": "code",
   "execution_count": 8,
   "metadata": {},
   "outputs": [
    {
     "name": "stdout",
     "output_type": "stream",
     "text": [
      "enter your bill amount :6000\n",
      "5400.0\n"
     ]
    }
   ],
   "source": [
    "shoping_cart = int(input(\"enter your bill amount :\"))\n",
    "if shoping_cart > 5000:\n",
    "    discount = (shoping_cart*10)/100\n",
    "    total_bill = shoping_cart - discount\n",
    "    print(total_bill)\n",
    "else:\n",
    "    print(shoping_cart)"
   ]
  },
  {
   "cell_type": "markdown",
   "metadata": {},
   "source": [
    "n = int(input('enter a number :'))\n",
    "if n > 0:\n",
    "    print('positive no')\n",
    "else:\n",
    "    print('negative no')"
   ]
  },
  {
   "cell_type": "code",
   "execution_count": 16,
   "metadata": {},
   "outputs": [
    {
     "name": "stdout",
     "output_type": "stream",
     "text": [
      "enter num1 :6\n",
      "enter num2 :8\n",
      "num2 is grater\n"
     ]
    }
   ],
   "source": [
    "num1 = int(input('enter num1 :'))\n",
    "num2 = int(input('enter num2 :'))\n",
    "if num1 > num2:\n",
    "    print('num1 is grater')\n",
    "else:\n",
    "    print('num2 is grater')\n"
   ]
  },
  {
   "cell_type": "code",
   "execution_count": 20,
   "metadata": {},
   "outputs": [
    {
     "name": "stdout",
     "output_type": "stream",
     "text": [
      "enter num1 :3\n",
      "enter num2 :5\n",
      "enter num3 :7\n",
      "num3 7 is gratest number\n"
     ]
    }
   ],
   "source": [
    "num1 = int(input('enter num1 :'))\n",
    "num2 = int(input('enter num2 :'))\n",
    "num3 = int(input('enter num3 :'))\n",
    "if num1 > num2 and num1 > num3:\n",
    "    print(f'num1 {num1} is gratest number')\n",
    "elif num2 > num1 and num2 >num3:\n",
    "    print(f'num2 {num2} is gratest number')\n",
    "else:\n",
    "    print(f'num3 {num3} is gratest number')\n",
    "            "
   ]
  },
  {
   "cell_type": "code",
   "execution_count": 30,
   "metadata": {},
   "outputs": [
    {
     "name": "stdout",
     "output_type": "stream",
     "text": [
      "are you student of school?yes\n",
      "do you have submitted your fee?no\n",
      "do you wear mask?yes\n",
      "you are allowed\n"
     ]
    }
   ],
   "source": [
    "ques1 = input('are you student of school?')\n",
    "ques2 = input('do you have submitted your fee?')\n",
    "ques3 = input('do you wear mask?')\n",
    "if (ques1 == 'yes' or ques == 'yes') and ques3 == 'yes':\n",
    "    print('you are allowed')\n",
    "else:\n",
    "    print('you are not allowed')"
   ]
  },
  {
   "cell_type": "code",
   "execution_count": 31,
   "metadata": {},
   "outputs": [
    {
     "data": {
      "text/plain": [
       "'s'"
      ]
     },
     "execution_count": 31,
     "metadata": {},
     "output_type": "execute_result"
    }
   ],
   "source": [
    "###indexing\n",
    "name = 'ashish'\n",
    "name[4]\n",
    "\n",
    "##### slicing\n",
    "#name[start:stop:step]\n"
   ]
  },
  {
   "cell_type": "code",
   "execution_count": 35,
   "metadata": {},
   "outputs": [
    {
     "data": {
      "text/plain": [
       "'gmail.com'"
      ]
     },
     "execution_count": 35,
     "metadata": {},
     "output_type": "execute_result"
    }
   ],
   "source": [
    "email = 'ashuchilwal14@gmail.com'\n",
    "start = email.index('@')\n",
    "email[start+1:]"
   ]
  },
  {
   "cell_type": "code",
   "execution_count": 88,
   "metadata": {
    "scrolled": true
   },
   "outputs": [
    {
     "name": "stdout",
     "output_type": "stream",
     "text": [
      "loohcs nohtypeht ot emoclew olleh ih\n",
      "HI HELLO WELCOME TO THEPYTHON SCHOOL\n",
      "hi hello welcome to thepython school\n",
      "Hi Hello Welcome To Thepython School\n",
      "hello \n",
      "hlo\n"
     ]
    }
   ],
   "source": [
    "st = \"hi hello welcome to the python school\"\n",
    "print(st[::-1])\n",
    "print(st.upper())\n",
    "print(st.lower())\n",
    "print(st.title())\n",
    "print(st[3:9])\n",
    "print(st[3:9:2])\n",
    "#print(st[-28:-34])   ###\n",
    "first = st.index('w')\n",
    "last = st.index('e')\n",
    "#print(st[first:last])"
   ]
  },
  {
   "cell_type": "code",
   "execution_count": 67,
   "metadata": {},
   "outputs": [
    {
     "name": "stdout",
     "output_type": "stream",
     "text": [
      "Hello\n",
      "hello\n",
      "2\n",
      "b'hello'\n",
      "True\n",
      "hello\n",
      "2\n",
      "hello\n",
      "hello\n",
      "1\n",
      "True\n"
     ]
    }
   ],
   "source": [
    "st = 'hello'\n",
    "print(st.capitalize())\n",
    "print(st.casefold())\n",
    "print(st.count('l'))\n",
    "print(st.encode())\n",
    "print(st.endswith('o'))\n",
    "print(st.expandtabs())\n",
    "print(st.find('l'))\n",
    "print(st.format())\n",
    "print(st.format_map(2))\n",
    "print(st.index('e'))\n",
    "print(st.isalnum())\n",
    "st."
   ]
  },
  {
   "cell_type": "code",
   "execution_count": 3,
   "metadata": {},
   "outputs": [
    {
     "name": "stdout",
     "output_type": "stream",
     "text": [
      "9\n",
      "4\n"
     ]
    },
    {
     "data": {
      "text/plain": [
       "''"
      ]
     },
     "execution_count": 3,
     "metadata": {},
     "output_type": "execute_result"
    }
   ],
   "source": [
    "st = \"hi hello welcome to the python school\"\n",
    "first = st.index('w')\n",
    "last = st.index('e')\n",
    "print(first)\n",
    "print(last)\n",
    "st[first:last]\n"
   ]
  },
  {
   "cell_type": "code",
   "execution_count": 12,
   "metadata": {},
   "outputs": [
    {
     "name": "stdout",
     "output_type": "stream",
     "text": [
      "9\n",
      "4\n",
      "\n",
      "4\n"
     ]
    }
   ],
   "source": [
    "st = \"hi hello welcome to the python school\"\n",
    "start = st.index('w')\n",
    "print(start)\n",
    "last = st.index('e')\n",
    "print(last)\n",
    "print(st[start:last:])\n",
    "a = st.find('e',3)\n",
    "print(a)"
   ]
  },
  {
   "cell_type": "code",
   "execution_count": 13,
   "metadata": {},
   "outputs": [
    {
     "data": {
      "text/plain": [
       "4"
      ]
     },
     "execution_count": 13,
     "metadata": {},
     "output_type": "execute_result"
    }
   ],
   "source": [
    "st.split()"
   ]
  },
  {
   "cell_type": "code",
   "execution_count": 20,
   "metadata": {},
   "outputs": [
    {
     "name": "stdout",
     "output_type": "stream",
     "text": [
      "1275\n"
     ]
    }
   ],
   "source": [
    "add = 0\n",
    "for i in range(1,51):\n",
    "    add += i\n",
    "print(add)"
   ]
  },
  {
   "cell_type": "code",
   "execution_count": 24,
   "metadata": {},
   "outputs": [
    {
     "name": "stdout",
     "output_type": "stream",
     "text": [
      "6\n"
     ]
    }
   ],
   "source": [
    "fact = 1\n",
    "for i in range(1,3+1):\n",
    "    fact *= i\n",
    "print(fact)\n",
    "    "
   ]
  },
  {
   "cell_type": "code",
   "execution_count": 26,
   "metadata": {},
   "outputs": [
    {
     "name": "stdout",
     "output_type": "stream",
     "text": [
      " *   *   *   *  \n",
      " *   *   *   *  \n",
      " *   *   *   *  \n",
      " *   *   *   *  \n"
     ]
    }
   ],
   "source": [
    "for row in range(4):\n",
    "    for col in range(4):\n",
    "        print(' * ', end = ' ')\n",
    "    print()"
   ]
  },
  {
   "cell_type": "code",
   "execution_count": 32,
   "metadata": {},
   "outputs": [
    {
     "name": "stdout",
     "output_type": "stream",
     "text": [
      " *   *   *  \n",
      " *   *   *  \n",
      " *   *   *  \n",
      " *   *   *  \n",
      " *   *   *  \n",
      " *   *   *  \n"
     ]
    }
   ],
   "source": [
    "for row in range(6):\n",
    "    for col in range(3):\n",
    "        print(' * ', end = ' ')\n",
    "    print()\n",
    "    "
   ]
  },
  {
   "cell_type": "code",
   "execution_count": 40,
   "metadata": {},
   "outputs": [
    {
     "name": "stdout",
     "output_type": "stream",
     "text": [
      "\n",
      " *  \n",
      " *   *  \n",
      " *   *   *  \n",
      " *   *   *   *  \n"
     ]
    }
   ],
   "source": [
    "for row in range(5):\n",
    "    for col in range(1, row+1):\n",
    "        print(' * ', end = ' ')\n",
    "    print()"
   ]
  },
  {
   "cell_type": "code",
   "execution_count": 45,
   "metadata": {},
   "outputs": [
    {
     "name": "stdout",
     "output_type": "stream",
     "text": [
      " *  \n",
      " *   *   *  \n",
      " *   *   *   *   *  \n",
      " *   *   *   *   *   *   *  \n"
     ]
    }
   ],
   "source": [
    "n = 4\n",
    "k = 1\n",
    "for row in range(1, n+1):\n",
    "    for col in range(1,k+1):\n",
    "        print(' * ', end = ' ')\n",
    "    k += 2\n",
    "    print()"
   ]
  },
  {
   "cell_type": "code",
   "execution_count": 47,
   "metadata": {},
   "outputs": [
    {
     "name": "stdout",
     "output_type": "stream",
     "text": [
      "*\n",
      "**\n",
      "***\n",
      "****\n",
      "*****\n",
      "******\n",
      "*******\n",
      "********\n",
      "*********\n"
     ]
    }
   ],
   "source": [
    "rows = 9\n",
    "k = 2*rows-2\n",
    "for i in range(0,rows):\n",
    "    for j in range(0,k):\n",
    "        print(end='')\n",
    "    k = k-2\n",
    "    for j in range(0,i+1):\n",
    "        print('*', end= '')\n",
    "    print('')\n",
    "        "
   ]
  },
  {
   "cell_type": "code",
   "execution_count": 7,
   "metadata": {},
   "outputs": [
    {
     "name": "stdout",
     "output_type": "stream",
     "text": [
      "* \n",
      "* * \n",
      "* * * \n",
      "* * * * \n"
     ]
    }
   ],
   "source": [
    "for i in range(1,5):\n",
    "    for j in range(1,5):\n",
    "        if i>=j:\n",
    "            print('*', end=' ')\n",
    "    print('')"
   ]
  },
  {
   "cell_type": "code",
   "execution_count": 11,
   "metadata": {},
   "outputs": [
    {
     "name": "stdout",
     "output_type": "stream",
     "text": [
      "* * * * * * \n",
      "* * * * * \n",
      "* * * * \n",
      "* * * \n",
      "* * \n",
      "* \n"
     ]
    }
   ],
   "source": [
    "for i in range(1,7):\n",
    "    for j in range(1,7):\n",
    "        if i<=j:\n",
    "            print('*', end=' ')\n",
    "    print('')"
   ]
  },
  {
   "cell_type": "code",
   "execution_count": 24,
   "metadata": {},
   "outputs": [
    {
     "name": "stdout",
     "output_type": "stream",
     "text": [
      "   *\n",
      "  **\n",
      " ***\n",
      "****\n"
     ]
    }
   ],
   "source": [
    "for i in range(1,5):\n",
    "    for j in range(1,5):\n",
    "        if j>=5-i:\n",
    "            print('*', end='')\n",
    "        else:\n",
    "            print(' ', end='')\n",
    "    print()"
   ]
  },
  {
   "cell_type": "code",
   "execution_count": 30,
   "metadata": {},
   "outputs": [
    {
     "name": "stdout",
     "output_type": "stream",
     "text": [
      "enter a string : ashish\n",
      "a\n",
      "as\n",
      "ash\n",
      "ashi\n",
      "ashis\n",
      "ashish\n"
     ]
    }
   ],
   "source": [
    "string = input('enter a string : ')\n",
    "lenth = len(string)\n",
    "for row in range(lenth):\n",
    "    for col in range(row+1):\n",
    "        print(string[col], end='')\n",
    "    print()"
   ]
  },
  {
   "cell_type": "code",
   "execution_count": 41,
   "metadata": {},
   "outputs": [
    {
     "name": "stdout",
     "output_type": "stream",
     "text": [
      "1\n",
      "2\n",
      "3\n",
      "4\n",
      "5\n",
      "6\n",
      "7\n",
      "8\n",
      "9\n",
      "10\n"
     ]
    }
   ],
   "source": [
    "for i in range(1,11):\n",
    "    if i == 5:\n",
    "        pass\n",
    "    print(i)"
   ]
  },
  {
   "cell_type": "code",
   "execution_count": 46,
   "metadata": {},
   "outputs": [
    {
     "name": "stdout",
     "output_type": "stream",
     "text": [
      "\n",
      "*\n",
      "**\n",
      "***\n",
      "****\n"
     ]
    }
   ],
   "source": [
    "for i in range(0,5):\n",
    "    for j in range(0,i):\n",
    "        print('*', end='')\n",
    "    print()"
   ]
  },
  {
   "cell_type": "code",
   "execution_count": 47,
   "metadata": {},
   "outputs": [
    {
     "name": "stdout",
     "output_type": "stream",
     "text": [
      "*****\n",
      "****\n",
      "***\n",
      "**\n",
      "*\n"
     ]
    }
   ],
   "source": [
    "for i in range(5,0,-1):\n",
    "    for j in range(0,i):\n",
    "        print('*', end='')\n",
    "    print()"
   ]
  },
  {
   "cell_type": "code",
   "execution_count": 54,
   "metadata": {},
   "outputs": [
    {
     "name": "stdout",
     "output_type": "stream",
     "text": [
      "enter row : 5\n",
      "*\n",
      "**\n",
      "***\n",
      "****\n",
      "*****\n"
     ]
    }
   ],
   "source": [
    "row = int(input('enter row : '))\n",
    "for i in range(1,row+1):\n",
    "    for j in range(1,i+1):\n",
    "        print('*', end=' ')\n",
    "    print()"
   ]
  },
  {
   "cell_type": "code",
   "execution_count": 57,
   "metadata": {},
   "outputs": [
    {
     "name": "stdout",
     "output_type": "stream",
     "text": [
      "enter row : 5\n",
      "* * * * * \n",
      "* * * * \n",
      "* * * \n",
      "* * \n",
      "* \n"
     ]
    }
   ],
   "source": [
    "row = int(input('enter row : '))\n",
    "for i in range(row,0,-1):\n",
    "    for j in range(1,i+1):\n",
    "        print('*', end=' ')\n",
    "    print()"
   ]
  },
  {
   "cell_type": "code",
   "execution_count": 61,
   "metadata": {},
   "outputs": [
    {
     "name": "stdout",
     "output_type": "stream",
     "text": [
      "enter row : 5\n",
      "* \n",
      "* * \n",
      "* * * \n",
      "* * * * \n",
      "* * * * * \n",
      "* * * * \n",
      "* * * \n",
      "* * \n",
      "* \n"
     ]
    }
   ],
   "source": [
    "row = int(input('enter row : '))\n",
    "for i in range(1,row+1):\n",
    "    for j in range(1,i+1):\n",
    "        print('*', end=' ')\n",
    "    print()\n",
    "    \n",
    "for i in range(row-1,0,-1):\n",
    "    for j in range(1,i+1):\n",
    "        print('*', end=' ')\n",
    "    print()\n"
   ]
  },
  {
   "cell_type": "code",
   "execution_count": 1,
   "metadata": {},
   "outputs": [
    {
     "name": "stdout",
     "output_type": "stream",
     "text": [
      "enter the no of rows :5\n",
      "*\n",
      "**\n",
      "***\n",
      "****\n",
      "*****\n"
     ]
    }
   ],
   "source": [
    "totalrows = int(input('enter the no of rows :'))\n",
    "for row in range(1,totalrows+1):\n",
    "    for space in range(1,(totalrows-row)+1):\n",
    "        print('', end='')\n",
    "    for symble in range(1,row+1):\n",
    "        print('*', end='')\n",
    "    print()"
   ]
  },
  {
   "cell_type": "code",
   "execution_count": 5,
   "metadata": {},
   "outputs": [
    {
     "name": "stdout",
     "output_type": "stream",
     "text": [
      " *** \n",
      "*   *\n",
      "*   *\n",
      "*****\n",
      "*   *\n",
      "*   *\n",
      "*   *\n"
     ]
    }
   ],
   "source": [
    "for row in range(7):\n",
    "    for col in range(5):\n",
    "        if ((col==0 or col==4) and row!=0) or ((row==0 or row==3) and (col>0 and col<4)):\n",
    "            print('*', end='')\n",
    "        else:\n",
    "            print(end=' ')\n",
    "    print()"
   ]
  },
  {
   "cell_type": "code",
   "execution_count": 11,
   "metadata": {},
   "outputs": [
    {
     "name": "stdout",
     "output_type": "stream",
     "text": [
      "*****\n",
      "*   *\n",
      "*   *\n",
      "*****\n",
      "*   *\n",
      "*   *\n",
      "*****\n"
     ]
    }
   ],
   "source": [
    "for row in range(7):\n",
    "    for col in range(5):\n",
    "        if (col==0 or col==4) or ((row==0 or row==3 or row==6) and (col>0 and col<4)):\n",
    "            print('*', end='')\n",
    "        else:\n",
    "            print(end=' ')\n",
    "    print()"
   ]
  },
  {
   "cell_type": "code",
   "execution_count": 18,
   "metadata": {},
   "outputs": [
    {
     "name": "stdout",
     "output_type": "stream",
     "text": [
      " mark is ['ram', 'shivam', 'rajan'] \n",
      " mark is [55, 65, 75] \n",
      " mark is [43, 53, 63] \n",
      " mark is [56, 76, 66] \n"
     ]
    }
   ],
   "source": [
    "num = [['ram', 'shivam', 'rajan'],[55,65,75],[43,53,63],[56,76,66]]\n",
    "for mark[0] in marks:\n",
    "    print(f' mark is {mark[0]} ')"
   ]
  },
  {
   "cell_type": "code",
   "execution_count": 86,
   "metadata": {},
   "outputs": [
    {
     "name": "stdout",
     "output_type": "stream",
     "text": [
      "**** \n",
      "*   *\n",
      "*   *\n",
      "**** \n",
      "*   *\n",
      "*   *\n",
      "**** \n"
     ]
    }
   ],
   "source": [
    "for row in range(7):\n",
    "    for col in range(5):\n",
    "        if (col==0 or col==4 and row!=0 and row!=3 and row!=6) or ((row==0 or row==3 or row==6) and (col>0 and col<4)):\n",
    "            print('*',end='')\n",
    "        else:\n",
    "            print(end=' ')\n",
    "    print()"
   ]
  },
  {
   "cell_type": "code",
   "execution_count": 84,
   "metadata": {},
   "outputs": [
    {
     "name": "stdout",
     "output_type": "stream",
     "text": [
      " * * * \n",
      "*    \n",
      "*    \n",
      "*    \n",
      " * * * \n"
     ]
    }
   ],
   "source": [
    "for row in range(5):\n",
    "    for col in range(4):\n",
    "        if (col==0 and (row!=0 and row!=4)) or (row==0 or row==4) and (col>0):\n",
    "            print('* ',end='')\n",
    "        else:\n",
    "            print(end=' ')\n",
    "    print()\n",
    "        "
   ]
  },
  {
   "cell_type": "code",
   "execution_count": 108,
   "metadata": {},
   "outputs": [
    {
     "name": "stdout",
     "output_type": "stream",
     "text": [
      "**** \n",
      "*   *\n",
      "*   *\n",
      "*   *\n",
      "*   *\n",
      "**** \n"
     ]
    }
   ],
   "source": [
    "for row in range(6):\n",
    "    for col in range(5):\n",
    "        if (col==0) or (col==4 and (row!=0 and row!=5)) or ((row==0 or row==5) and (col>0 and col<4)):\n",
    "            print('*', end='')\n",
    "        else:\n",
    "            print(end=' ')\n",
    "    print()"
   ]
  },
  {
   "cell_type": "code",
   "execution_count": 128,
   "metadata": {},
   "outputs": [
    {
     "name": "stdout",
     "output_type": "stream",
     "text": [
      "*****\n",
      "*    \n",
      "*    \n",
      "*****\n",
      "*    \n",
      "*    \n",
      "*****\n"
     ]
    }
   ],
   "source": [
    "for row in range(7):\n",
    "    for col in range(5):\n",
    "        if col==0 or ((row==0 or row==3 or row==6) and (col>0)):\n",
    "            print('*',end='')\n",
    "        else:\n",
    "            print(end=' ')\n",
    "    print()"
   ]
  },
  {
   "cell_type": "code",
   "execution_count": 129,
   "metadata": {},
   "outputs": [
    {
     "name": "stdout",
     "output_type": "stream",
     "text": [
      "*****\n",
      "*    \n",
      "*    \n",
      "*****\n",
      "*    \n",
      "*    \n",
      "*    \n"
     ]
    }
   ],
   "source": [
    "for row in range(7):\n",
    "    for col in range(5):\n",
    "        if col==0 or ((row==0 or row==3) and (col>0)):\n",
    "            print('*', end='')\n",
    "        else:\n",
    "            print(end=' ')\n",
    "    print()"
   ]
  },
  {
   "cell_type": "code",
   "execution_count": 186,
   "metadata": {},
   "outputs": [
    {
     "name": "stdout",
     "output_type": "stream",
     "text": [
      "*****\n",
      "*    \n",
      "*    \n",
      "*    \n",
      "* ***\n",
      "* * *\n",
      "*** *\n"
     ]
    }
   ],
   "source": [
    "for row in range(7):\n",
    "    for col in range(5):\n",
    "        if (col==0) or (row==0) or (row==4 and col!=1) or (row==6 and  col!=3) or (row==5 and (col!=3 and col!=1)) or (row==4 and col!=1):\n",
    "            print('*',end='')\n",
    "        else:\n",
    "            print(end=' ')\n",
    "    print()"
   ]
  },
  {
   "cell_type": "code",
   "execution_count": 132,
   "metadata": {},
   "outputs": [
    {
     "name": "stdout",
     "output_type": "stream",
     "text": [
      "*   *\n",
      "*   *\n",
      "*   *\n",
      "*****\n",
      "*   *\n",
      "*   *\n",
      "*   *\n"
     ]
    }
   ],
   "source": [
    "for row in range(7):\n",
    "    for col in range(5):\n",
    "        if col==0 or col==4 or ((row==3) and (col>0 and col<5)):\n",
    "            print('*',end='')\n",
    "        else:\n",
    "            print(end=' ')\n",
    "    print()"
   ]
  },
  {
   "cell_type": "code",
   "execution_count": 159,
   "metadata": {},
   "outputs": [
    {
     "name": "stdout",
     "output_type": "stream",
     "text": [
      "*****\n",
      "  *  \n",
      "  *  \n",
      "  *  \n",
      "  *  \n",
      "  *  \n",
      "*****\n"
     ]
    }
   ],
   "source": [
    "for row in range(7):\n",
    "    for col in range(5):\n",
    "        if col==2 or (row==0 and col!=2) or row==6:\n",
    "            print('*',end='')\n",
    "        else:\n",
    "            print(end=' ')\n",
    "    print()"
   ]
  },
  {
   "cell_type": "code",
   "execution_count": 189,
   "metadata": {},
   "outputs": [
    {
     "name": "stdout",
     "output_type": "stream",
     "text": [
      "*****\n",
      "  *  \n",
      "  *  \n",
      "  *  \n",
      "  *  \n",
      "* *  \n",
      "***  \n"
     ]
    }
   ],
   "source": [
    "for row in range(7):\n",
    "    for col in range(5):\n",
    "        if col==2 or (row==0 and col!=2) or (row==6 and col<2) or (row==5 and col!=1 and col!=3 and col!=4):\n",
    "            print('*',end='')\n",
    "        else:\n",
    "            print(end=' ')\n",
    "    print()\n",
    "            "
   ]
  },
  {
   "cell_type": "code",
   "execution_count": 214,
   "metadata": {},
   "outputs": [
    {
     "name": "stdout",
     "output_type": "stream",
     "text": [
      "*   *\n",
      "*  * \n",
      "* *  \n",
      "**   \n",
      "* *  \n",
      "*  * \n",
      "*   *\n"
     ]
    }
   ],
   "source": [
    "i=0\n",
    "j=4\n",
    "for row in range(7):\n",
    "    for col in range(5):\n",
    "        if col==0 or (row==col+2 and col>1):\n",
    "            print('*', end='')\n",
    "        elif ((row==i and col==j) and col>0):\n",
    "            print('*',end='')\n",
    "            i=i+1\n",
    "            j=j-1\n",
    "        else:\n",
    "            print(end=' ')\n",
    "    print()"
   ]
  },
  {
   "cell_type": "code",
   "execution_count": 215,
   "metadata": {},
   "outputs": [
    {
     "name": "stdout",
     "output_type": "stream",
     "text": [
      "*    \n",
      "*    \n",
      "*    \n",
      "*    \n",
      "*    \n",
      "*    \n",
      "*****\n"
     ]
    }
   ],
   "source": [
    "for row in range(7):\n",
    "    for col in range(5):\n",
    "        if col==0 or row==6:\n",
    "            print('*',end='')\n",
    "        else:\n",
    "            print(end=' ')\n",
    "    print()\n",
    "            "
   ]
  },
  {
   "cell_type": "code",
   "execution_count": 228,
   "metadata": {},
   "outputs": [
    {
     "name": "stdout",
     "output_type": "stream",
     "text": [
      "*   *\n",
      "** **\n",
      "* * *\n",
      "*   *\n",
      "*   *\n",
      "*   *\n",
      "*   *\n"
     ]
    }
   ],
   "source": [
    "for row in range(7):\n",
    "    for col in range(5):\n",
    "        if (col==0 or col==4) or (row==1 and col!=2) or (row==2 and (col!=1 and col!=3)):\n",
    "            print('*',end='')\n",
    "        else:\n",
    "            print(end=' ')\n",
    "    print()"
   ]
  },
  {
   "cell_type": "code",
   "execution_count": 8,
   "metadata": {},
   "outputs": [
    {
     "name": "stdout",
     "output_type": "stream",
     "text": [
      "[10, 2020, 303030, 40404040, 5050505050]\n"
     ]
    }
   ],
   "source": [
    "l = [10,20,30,40,50]\n",
    "j = []\n",
    "k = 1\n",
    "for i in l:\n",
    "    j.append(int(str(i)*k))\n",
    "    k+=1\n",
    "print(j)\n",
    "    \n",
    "    "
   ]
  },
  {
   "cell_type": "code",
   "execution_count": 10,
   "metadata": {},
   "outputs": [
    {
     "name": "stdout",
     "output_type": "stream",
     "text": [
      "    * \n",
      "   * * \n",
      "  * * * \n",
      " * * * * \n",
      "* * * * * \n"
     ]
    }
   ],
   "source": [
    "n = 5\n",
    "for i in range(n):\n",
    "    print(\" \"*(n-i-1)+\"* \"*(i+1))"
   ]
  },
  {
   "cell_type": "code",
   "execution_count": 14,
   "metadata": {},
   "outputs": [
    {
     "name": "stdout",
     "output_type": "stream",
     "text": [
      "* * * * * \n",
      " * * * * \n",
      "  * * * \n",
      "   * * \n",
      "    * \n"
     ]
    }
   ],
   "source": [
    "n = 5\n",
    "for i in range(n,0,-1):\n",
    "    print(\" \"*(n-i)+\"* \"*(i))"
   ]
  },
  {
   "cell_type": "code",
   "execution_count": 15,
   "metadata": {},
   "outputs": [
    {
     "name": "stdout",
     "output_type": "stream",
     "text": [
      "    * \n",
      "   * * \n",
      "  * * * \n",
      " * * * * \n",
      "* * * * * \n",
      " * * * * \n",
      "  * * * \n",
      "   * * \n",
      "    * \n"
     ]
    }
   ],
   "source": [
    "n = 5\n",
    "for i in range(n):\n",
    "    print(\" \"*(n-i-1)+\"* \"*(i+1))\n",
    "for i in range(n-1,0,-1):\n",
    "    print(\" \"*(n-i)+\"* \"*(i))"
   ]
  },
  {
   "cell_type": "code",
   "execution_count": 16,
   "metadata": {},
   "outputs": [
    {
     "name": "stdout",
     "output_type": "stream",
     "text": [
      "enter stringpython\n",
      "p \n",
      "p y \n",
      "p y t \n",
      "p y t h \n",
      "p y t h o \n",
      "p y t h o n \n"
     ]
    }
   ],
   "source": [
    "n = input(\"enter string\")\n",
    "length = len(n)\n",
    "for row in range(length):\n",
    "    for col in range(row+1):\n",
    "        print(n[col], end=' ')\n",
    "    print()\n",
    "    "
   ]
  },
  {
   "cell_type": "code",
   "execution_count": 19,
   "metadata": {},
   "outputs": [
    {
     "name": "stdout",
     "output_type": "stream",
     "text": [
      "1 \n",
      "2 3 \n",
      "4 5 6 \n",
      "7 8 9 10 \n"
     ]
    }
   ],
   "source": [
    "n=4\n",
    "p=1\n",
    "for i in range(n):\n",
    "    for j in range(i+1):\n",
    "        print(p, end=' ')\n",
    "        p += 1\n",
    "    print()\n",
    "        "
   ]
  },
  {
   "cell_type": "code",
   "execution_count": 26,
   "metadata": {},
   "outputs": [
    {
     "name": "stdout",
     "output_type": "stream",
     "text": [
      "1 2 3 4 5 \n",
      "1 2 3 4 \n",
      "1 2 3 \n",
      "1 2 \n",
      "1 \n"
     ]
    }
   ],
   "source": [
    "n=5\n",
    "p=1\n",
    "for i in range(5,0,-1):\n",
    "    for j in range(1,i+1):\n",
    "        print(j , end=' ')\n",
    "    print()"
   ]
  },
  {
   "cell_type": "code",
   "execution_count": 27,
   "metadata": {},
   "outputs": [
    {
     "name": "stdout",
     "output_type": "stream",
     "text": [
      "5 5 5 5 5 \n",
      "4 4 4 4 \n",
      "3 3 3 \n",
      "2 2 \n",
      "1 \n"
     ]
    }
   ],
   "source": [
    "n=5\n",
    "p=1\n",
    "for i in range(5,0,-1):\n",
    "    for j in range(1,i+1):\n",
    "        print(i , end=' ')\n",
    "    print()"
   ]
  },
  {
   "cell_type": "code",
   "execution_count": 4,
   "metadata": {},
   "outputs": [
    {
     "name": "stdout",
     "output_type": "stream",
     "text": [
      "   *   \n",
      "  * *  \n",
      " *   * \n",
      "*******\n"
     ]
    }
   ],
   "source": [
    "for row in range(1,5):\n",
    "    for col in range(1,8):\n",
    "        if (row==4 or (row+col)==5 or (col-row)==3):\n",
    "            print(\"*\", end='')\n",
    "        else:\n",
    "            print(end=\" \")\n",
    "    print()\n",
    "    "
   ]
  },
  {
   "cell_type": "code",
   "execution_count": 5,
   "metadata": {},
   "outputs": [
    {
     "name": "stdout",
     "output_type": "stream",
     "text": [
      "enter the no of row5\n",
      "    *    \n",
      "   * *   \n",
      "  *   *  \n",
      " *     * \n",
      "*********\n"
     ]
    }
   ],
   "source": [
    "n = int(input('enter the no of row'))\n",
    "for row in range(1,n+1):\n",
    "    for col in range(1,n*2):\n",
    "        if (row==n or (row+col)==n+1 or (col-row)==n-1):\n",
    "            print(\"*\", end='')\n",
    "        else:\n",
    "            print(end=\" \")\n",
    "    print()"
   ]
  },
  {
   "cell_type": "code",
   "execution_count": 6,
   "metadata": {},
   "outputs": [
    {
     "name": "stdout",
     "output_type": "stream",
     "text": [
      "55\n"
     ]
    }
   ],
   "source": [
    "i = 1\n",
    "s = 0\n",
    "while i<11:\n",
    "    s+=i\n",
    "    i+=1\n",
    "print(s)"
   ]
  },
  {
   "cell_type": "code",
   "execution_count": 8,
   "metadata": {},
   "outputs": [
    {
     "name": "stdout",
     "output_type": "stream",
     "text": [
      "1 is odd\n",
      "2 is even\n",
      "3 is odd\n",
      "4 is even\n",
      "5 is odd\n",
      "6 is even\n",
      "7 is odd\n",
      "8 is even\n",
      "9 is odd\n",
      "10 is even\n",
      "11 is odd\n"
     ]
    }
   ],
   "source": [
    "i = 0\n",
    "while i<11:\n",
    "    i+=1\n",
    "    if i%2==0:\n",
    "        print(i,'is even')\n",
    "    else:\n",
    "        print(i,'is odd')\n",
    "        "
   ]
  },
  {
   "cell_type": "code",
   "execution_count": 21,
   "metadata": {},
   "outputs": [
    {
     "name": "stdout",
     "output_type": "stream",
     "text": [
      "factorial is 120\n"
     ]
    }
   ],
   "source": [
    "n= 5\n",
    "f=1\n",
    "while n>0:\n",
    "    f*=n\n",
    "    n-=1\n",
    "print(\"factorial is\",f)"
   ]
  },
  {
   "cell_type": "code",
   "execution_count": 19,
   "metadata": {},
   "outputs": [
    {
     "name": "stdout",
     "output_type": "stream",
     "text": [
      "enter a char :a\n",
      "a\n",
      "enter a char :q\n",
      "q\n",
      "you are right\n"
     ]
    }
   ],
   "source": [
    "n= 1\n",
    "while n!='q':\n",
    "    n = input(\"enter a char :\")\n",
    "    print(n)\n",
    "    \n",
    "print('you are right')"
   ]
  },
  {
   "cell_type": "code",
   "execution_count": 15,
   "metadata": {},
   "outputs": [
    {
     "name": "stdout",
     "output_type": "stream",
     "text": [
      "enter first no :2\n",
      "enter second no :4\n",
      "guess the number between 1 to 10 :6\n",
      "you guess right num in the attemp of 1\n",
      "thanks for playing game\n"
     ]
    }
   ],
   "source": [
    "num1 = int(input('enter first no :'))\n",
    "num2 = int(input('enter second no :'))\n",
    "sum = num1 + num2\n",
    "\n",
    "attempt = 0\n",
    "while True:\n",
    "    guess = int(input('guess the number between 1 to 10 :'))\n",
    "    attempt+=1\n",
    "    if guess == sum:\n",
    "        print(f\"you guess right num in the attemp of {attempt}\")\n",
    "        break\n",
    "    else:\n",
    "        print(\"try again\")\n",
    "print('thanks for playing game')      "
   ]
  },
  {
   "cell_type": "code",
   "execution_count": 3,
   "metadata": {},
   "outputs": [
    {
     "name": "stdout",
     "output_type": "stream",
     "text": [
      "1 is odd number\n",
      "2 is even number\n",
      "3 is odd number\n",
      "4 is even number\n",
      "5 is odd number\n",
      "6 is even number\n",
      "7 is odd number\n",
      "8 is even number\n",
      "9 is odd number\n",
      "10 is even number\n"
     ]
    }
   ],
   "source": [
    "i=1\n",
    "while i<11:\n",
    "    if i%2==0:\n",
    "        print(i, \"is even number\")\n",
    "        #i +=1\n",
    "    else:\n",
    "        print(i, \"is odd number\")\n",
    "        #i +=1\n",
    "    i +=1"
   ]
  },
  {
   "cell_type": "code",
   "execution_count": 6,
   "metadata": {},
   "outputs": [
    {
     "name": "stdout",
     "output_type": "stream",
     "text": [
      "120\n"
     ]
    }
   ],
   "source": [
    "n = 1\n",
    "i = 1\n",
    "while n<=5:\n",
    "    i*=n\n",
    "    n+=1\n",
    "print(i)"
   ]
  },
  {
   "cell_type": "code",
   "execution_count": 1,
   "metadata": {},
   "outputs": [
    {
     "name": "stdout",
     "output_type": "stream",
     "text": [
      "enter a num :6\n",
      "720\n"
     ]
    }
   ],
   "source": [
    "n = int(input(\"enter a num :\"))\n",
    "fact = 1\n",
    "while n>0:\n",
    "    fact*=n\n",
    "    n-=1\n",
    "print(fact)"
   ]
  },
  {
   "cell_type": "code",
   "execution_count": 2,
   "metadata": {},
   "outputs": [
    {
     "name": "stdout",
     "output_type": "stream",
     "text": [
      "enter a chara\n",
      "enter a chars\n",
      "enter a chard\n",
      "enter a charq\n",
      "thanku for playing game\n"
     ]
    }
   ],
   "source": [
    "n= 1\n",
    "while n!=\"q\":\n",
    "    n = input(\"enter a char :\")\n",
    "print(\"thanku for playing game\")\n",
    "    "
   ]
  },
  {
   "cell_type": "code",
   "execution_count": 8,
   "metadata": {},
   "outputs": [
    {
     "name": "stdout",
     "output_type": "stream",
     "text": [
      "{'a': 1, 'e': 3, 'i': 2, 'o': 3, 'u': 0}\n"
     ]
    }
   ],
   "source": [
    "s = \"i m new the world of the programming\"\n",
    "vou = \"aeiou\"\n",
    "v = {}\n",
    "v = v.fromkeys(vou,0)\n",
    "ch = 0\n",
    "for i in s.lower():\n",
    "    if i in v:\n",
    "        v[i] += 1\n",
    "    else:\n",
    "        ch += 1\n",
    "print(v)"
   ]
  },
  {
   "cell_type": "code",
   "execution_count": 7,
   "metadata": {},
   "outputs": [
    {
     "name": "stdout",
     "output_type": "stream",
     "text": [
      " what is the ans of 2+3? \n",
      "a. 5\n",
      "b. 6\n",
      "c. 7\n",
      "d. 3 \n",
      "do you want skip this question? (yes/no) :n\n",
      "enter your ans (a/b/c/d)a\n",
      "your ans is write\n",
      "do you want quit this quiz? (yes/no) :yes\n",
      "your total score is 1\n"
     ]
    }
   ],
   "source": [
    "q1 = \"\"\" what is the ans of 2+3? \n",
    "a. 5\n",
    "b. 6\n",
    "c. 7\n",
    "d. 3 \"\"\"\n",
    "q2 = \"\"\"what is the ans of 2**3?\n",
    "a. 7\n",
    "b. 6\n",
    "c. 7\n",
    "d. 8\"\"\"\n",
    "q3 = \"\"\"what is the ans of 2**2?\n",
    "a. 7\n",
    "b. 6\n",
    "c. 4\n",
    "d. 9\"\"\"\n",
    "\n",
    "questions = {q1 : \"a\", q2 : \"d\", q3 : \"c\"}\n",
    "score = 0\n",
    "for i in questions:\n",
    "    print(i)\n",
    "    statement1 = input(\"do you want skip this question? (yes/no) :\")\n",
    "    if statement1 == \"yes\":\n",
    "        continue\n",
    "    ans = input(\"enter your ans (a/b/c/d)\")\n",
    "    \n",
    "    if ans == questions[i]:\n",
    "        print(\"your ans is write\")\n",
    "        score += 1\n",
    "        \n",
    "    else:\n",
    "        print(\"your ans is wrong\")\n",
    "    statement2 = input(\"do you want quit this quiz? (yes/no) :\")\n",
    "    if statement2 == \"yes\":\n",
    "        break\n",
    "print(\"your total score is\", score)"
   ]
  }
 ],
 "metadata": {
  "kernelspec": {
   "display_name": "Python 3",
   "language": "python",
   "name": "python3"
  },
  "language_info": {
   "codemirror_mode": {
    "name": "ipython",
    "version": 3
   },
   "file_extension": ".py",
   "mimetype": "text/x-python",
   "name": "python",
   "nbconvert_exporter": "python",
   "pygments_lexer": "ipython3",
   "version": "3.7.4"
  }
 },
 "nbformat": 4,
 "nbformat_minor": 2
}
