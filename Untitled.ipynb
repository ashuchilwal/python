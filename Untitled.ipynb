{
 "cells": [
  {
   "cell_type": "code",
   "execution_count": 2,
   "metadata": {},
   "outputs": [
    {
     "name": "stdout",
     "output_type": "stream",
     "text": [
      "0.0\n"
     ]
    }
   ],
   "source": [
    "s1 = 3\n",
    "s2 = 5\n",
    "s3 = 2\n",
    "s = (s1+s2+s3)/2\n",
    "area_of_trangle = (s*(s-s1)*(s-s2)*(s-s3))**(1/2)\n",
    "print(area_of_trangle)"
   ]
  },
  {
   "cell_type": "code",
   "execution_count": 3,
   "metadata": {},
   "outputs": [
    {
     "data": {
      "text/plain": [
       "'C:\\\\Users\\\\ashu\\\\python'"
      ]
     },
     "execution_count": 3,
     "metadata": {},
     "output_type": "execute_result"
    }
   ],
   "source": [
    "pwd"
   ]
  },
  {
   "cell_type": "code",
   "execution_count": null,
   "metadata": {},
   "outputs": [],
   "source": [
    "p = int(input('enter initial principal rate :'))\n",
    "r = int(input('enter annual interest rate :'))\n",
    "t = int(input('enter time'))\n",
    "simple_intrest = p*(1+r*t)\n",
    "print(simple_intrest)"
   ]
  },
  {
   "cell_type": "code",
   "execution_count": null,
   "metadata": {},
   "outputs": [],
   "source": [
    "selling_prize = int(input('enter prize'))\n",
    "bying_prize = int(input('enter prize :'))\n",
    "profit = selling_prize - bying_prize\n",
    "if profit > 0:\n",
    "    print(f'profit is :{profit}')\n",
    "else:\n",
    "    print(f'loss is {profit}')"
   ]
  },
  {
   "cell_type": "code",
   "execution_count": null,
   "metadata": {},
   "outputs": [],
   "source": []
  }
 ],
 "metadata": {
  "kernelspec": {
   "display_name": "Python 3",
   "language": "python",
   "name": "python3"
  },
  "language_info": {
   "codemirror_mode": {
    "name": "ipython",
    "version": 3
   },
   "file_extension": ".py",
   "mimetype": "text/x-python",
   "name": "python",
   "nbconvert_exporter": "python",
   "pygments_lexer": "ipython3",
   "version": "3.7.4"
  }
 },
 "nbformat": 4,
 "nbformat_minor": 2
}
